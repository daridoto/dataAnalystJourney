{
 "cells": [
  {
   "cell_type": "code",
   "execution_count": null,
   "id": "3174ff54-bf91-414c-9cfe-2ed54a1c9600",
   "metadata": {},
   "outputs": [],
   "source": []
  }
 ],
 "metadata": {
  "kernelspec": {
   "display_name": "",
   "name": ""
  },
  "language_info": {
   "name": ""
  }
 },
 "nbformat": 4,
 "nbformat_minor": 5
}
