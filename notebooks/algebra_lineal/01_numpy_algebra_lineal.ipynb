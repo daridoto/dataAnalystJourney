{
 "cells": [
  {
   "cell_type": "code",
   "execution_count": 6,
   "id": "a8a50d9a-c8f5-4dfc-926d-9ddab6a74d0a",
   "metadata": {},
   "outputs": [
    {
     "name": "stdout",
     "output_type": "stream",
     "text": [
      "Vector original:  [2 3]\n",
      "Vector escalado:  [10 15]\n",
      "Matriz:\n",
      " [[1 2]\n",
      " [3 4]]\n",
      "Resultado M * v: [ 8 18]\n",
      "Norma del vector: 3.605551275463989\n",
      "Producto punto v . v_scaled: 65\n"
     ]
    }
   ],
   "source": [
    "# Vectores, matrices, norma y producto escalar\n",
    "\n",
    "import numpy as np \n",
    "\n",
    "# Vector \n",
    "v = np.array([2, 3])\n",
    "\n",
    "# Escalado\n",
    "v_scaled = 5 * v\n",
    "\n",
    "print(\"Vector original: \", v)\n",
    "print(\"Vector escalado: \", v_scaled)\n",
    "\n",
    "# Matriz\n",
    "M = np.array([[1, 2], [3, 4]])\n",
    "\n",
    "# Multiplicacion matriz-vector\n",
    "result = M @ v\n",
    "print(\"Matriz:\\n\", M)\n",
    "print(\"Resultado M * v:\", result)\n",
    "\n",
    "# Norma\n",
    "norm_v = np.linalg.norm(v)\n",
    "print(\"Norma del vector:\", norm_v)\n",
    "\n",
    "# Producto punto\n",
    "dot = np.dot(v, v_scaled)\n",
    "print(\"Producto punto v . v_scaled:\", dot)"
   ]
  },
  {
   "cell_type": "code",
   "execution_count": 8,
   "id": "be13f9c0-4d00-4dc2-ba4d-108876f72b31",
   "metadata": {},
   "outputs": [
    {
     "name": "stdout",
     "output_type": "stream",
     "text": [
      "Suma:  [4 6]\n",
      "Resta:  [-2 -2]\n",
      "Suma matrices:\n",
      " [[ 6  8]\n",
      " [10 12]]\n"
     ]
    }
   ],
   "source": [
    "# Suma y resta de vectores y matrices\n",
    "\n",
    "a = np.array([1, 2])\n",
    "b = np.array([3, 4])\n",
    "\n",
    "print(\"Suma: \", a + b)\n",
    "print(\"Resta: \", a - b)\n",
    "\n",
    "M1 = np.array([[1, 2], [3, 4]])\n",
    "M2 = np.array([[5, 6], [7, 8]])\n",
    "\n",
    "print(\"Suma matrices:\\n\", M1 + M2)"
   ]
  },
  {
   "cell_type": "code",
   "execution_count": 9,
   "id": "5bd0b43a-07fe-480e-8bf3-041ad529d76e",
   "metadata": {},
   "outputs": [
    {
     "name": "stdout",
     "output_type": "stream",
     "text": [
      "Matriz transpuesta:\n",
      " [[1 3]\n",
      " [2 4]]\n"
     ]
    }
   ],
   "source": [
    "# Transpuesta de una matriz\n",
    "\n",
    "M = np.array([[1, 2], [3, 4]])\n",
    "print(\"Matriz transpuesta:\\n\", M.T)"
   ]
  },
  {
   "cell_type": "code",
   "execution_count": 12,
   "id": "2b44d5ff-ccbb-4bd1-9265-8bfc4356e8fe",
   "metadata": {},
   "outputs": [
    {
     "name": "stdout",
     "output_type": "stream",
     "text": [
      "Producto A*B:\n",
      " [[19 22]\n",
      " [43 50]]\n",
      "Determinante de A: -2.0000000000000004\n",
      "Inversa de A:\n",
      " [[-2.   1. ]\n",
      " [ 1.5 -0.5]]\n"
     ]
    }
   ],
   "source": [
    "# Producto matriz-matriz, determinante, inversa de una matriz\n",
    "A = np.array([[1, 2], [3, 4]])\n",
    "B = np.array([[5, 6], [7, 8]])\n",
    "\n",
    "print(\"Producto A*B:\\n\", A @ B)\n",
    "\n",
    "det_A = np.linalg.det(A)\n",
    "print(\"Determinante de A:\", det_A)\n",
    "\n",
    "A_inv = np.linalg.inv(A)\n",
    "print(\"Inversa de A:\\n\", A_inv)"
   ]
  },
  {
   "cell_type": "code",
   "execution_count": null,
   "id": "0c1746d5-c9a5-4d1e-8665-d344bf6f0aae",
   "metadata": {},
   "outputs": [],
   "source": []
  }
 ],
 "metadata": {
  "kernelspec": {
   "display_name": "Python 3 (ipykernel)",
   "language": "python",
   "name": "python3"
  },
  "language_info": {
   "codemirror_mode": {
    "name": "ipython",
    "version": 3
   },
   "file_extension": ".py",
   "mimetype": "text/x-python",
   "name": "python",
   "nbconvert_exporter": "python",
   "pygments_lexer": "ipython3",
   "version": "3.11.3"
  }
 },
 "nbformat": 4,
 "nbformat_minor": 5
}
